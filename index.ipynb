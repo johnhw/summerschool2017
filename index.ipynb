{
 "cells": [
  {
   "cell_type": "markdown",
   "metadata": {},
   "source": [
    "<img src=\"static/imgs/logo.png\" width=\"100%\">\n",
    "\n",
    "------------------------------\n",
    "\n",
    "### Purpose\n",
    "The purpose of today is to get hands on experience in applying Bayesian, probabilistic models to HCI. The focus is on specific, practical examples rather than theory.\n",
    "\n",
    "### Outline\n",
    "\n",
    "We will cover **two topics**, with a mix of practical and lecture material. \n",
    "\n",
    "\n",
    "The notebooks for each of the three summer school topics are listed below:\n",
    "\n",
    "1. [Static models: Inferring Typing Behaviour](static/mcmc_typing.ipynb) This section looks at building probabilistic Bayesian models of typing behaviour, and inferring parameters using Markov Chain Monte Carlo.\n",
    "\n",
    "1. Dynamic models: [Tracking Cursors](dynamic/kalman_filter.ipynb) and [Recognising gestures](dynamic/particle_gesture.ipynb) This section looks at building dynamic probabilistic models that can track states over time, including estimating cursor movement with noisy, partial measurements and spotting and tracking gestures.\n",
    "\n",
    "\n"
   ]
  },
  {
   "cell_type": "code",
   "execution_count": null,
   "metadata": {
    "collapsed": true
   },
   "outputs": [],
   "source": []
  }
 ],
 "metadata": {
  "kernelspec": {
   "display_name": "Python 2",
   "language": "python",
   "name": "python2"
  },
  "language_info": {
   "codemirror_mode": {
    "name": "ipython",
    "version": 2
   },
   "file_extension": ".py",
   "mimetype": "text/x-python",
   "name": "python",
   "nbconvert_exporter": "python",
   "pygments_lexer": "ipython2",
   "version": "2.7.12"
  }
 },
 "nbformat": 4,
 "nbformat_minor": 0
}
