{
 "cells": [
  {
   "cell_type": "markdown",
   "metadata": {},
   "source": [
    "<img src=\"imgs/logo.png\" width=\"100%\">\n",
    "-----\n",
    "# Inferring typing behaviour"
   ]
  },
  {
   "cell_type": "code",
   "execution_count": null,
   "metadata": {
    "collapsed": false
   },
   "outputs": [],
   "source": [
    "# standard imports\n",
    "import numpy as np\n",
    "import matplotlib.pyplot as plt\n",
    "import sys, os, time\n",
    "import pandas as pd\n",
    "import pymc as mc\n",
    "%matplotlib inline\n",
    "import matplotlib as mpl\n",
    "mpl.rcParams['figure.figsize'] = (12.0, 8.0)\n",
    "import scipy.stats\n",
    "\n",
    "# fix for pydot on windows machines\n",
    "import os     \n",
    "os.environ[\"PATH\"] += os.pathsep + 'C:/Program Files (x86)/Graphviz2.38/bin/'"
   ]
  },
  {
   "cell_type": "code",
   "execution_count": null,
   "metadata": {
    "collapsed": false
   },
   "outputs": [],
   "source": [
    "%%javascript\n",
    "IPython.OutputArea.auto_scroll_threshold = 9999;\n",
    "OutputArea.prototype._should_scroll = function(){return false};"
   ]
  },
  {
   "cell_type": "markdown",
   "metadata": {},
   "source": [
    "## Topic purpose\n",
    "This section will cover probabilistic **inference**. Rather than learning a single set of parameters by optimisation, we can infer probability distributions over possible models that might be compatible with our data.  \n",
    "\n",
    "\n",
    "Concretely, we'll use Markov Chain Monte Carlo to make it simple and easy (if not very efficient) to work with probabilistic models. We will use these approaches to model **typing behaviour** at the keystroke level, and both make predictions given some data (\"how likely is it that this sequence was typed by user X?\") and quantify how much confidence we have in those models.\n",
    "\n",
    "The key learning outcome is how to **think** about interaction in a probabilistic context. We will expand this in the second part of the course where we see how to apply probabilistic models to dynamic processes.\n",
    "\n",
    "\n",
    "## Outline for section A: Inferring typing behaviour\n",
    "We will:\n",
    "\n",
    "## Part I\n",
    "* <a href=\"#keymodel\"> Discuss keystroke modelling </a>\n",
    "* <a href=\"#graphical \"> Look at graphical models of expressions </a>\n",
    "* <a href=\"#bayesian\"> Get to grips with the basics of Bayesian probabilistic inference </a>\n",
    "* <a href=\"#pymc\"> Have a quick introduction to probabilistic programming with PyMC </a>\n",
    "\n",
    "* <a href=\"#practical\"> **Practical**: build a simple Bayesian probabilistic model to model keystroke timings and use MCMC to fit it. </a>\n",
    "\n",
    "* <a href=\"#sampling\"> Discuss issues in MCMC sampling. </a>\n",
    "\n",
    "----\n",
    "\n",
    "### Keystroke modelling\n",
    "<a id=\"keymodel\"> </a>\n",
    "<img src=\"imgs/keyboard_drawing.png\">\n",
    "\n",
    "\n",
    "Specifically, we'll look at **keystroke timing** data. We will look at a simple dataset, which captures a sequence of key events and their timing; both the inter-key time and the key hold duration.\n",
    "    \n",
    "This is enough to answer some interesting questions; for example, can we model differences in the way keys are pressed based on the distribution of inter-key times? Or more precisely, can we infer a **probability distribution** over users that might be generating a timing sequence and update that as we see more keystrokes?\n",
    "\n",
    "Alternatively, we could see if the type of key hit (e.g. space versus letter, or left side versus right side) influences the timing of the **next** keystroke, and build a predictive model to infer the likely next time to key impact. This could be used to optimise keyboard layouts (as you will see later in the week).\n",
    "\n",
    "If we are very ambitiuous, we could try and recover the keystrokes themselves from timing alone. There probably isn't enough information to do this, at least without very large user-specific datasets and a robust **language model**, but we could probably identify unusual or special keys (e.g. identify `Space` or `Enter` or `Esc` in the timing stream).\n",
    "\n",
    "The \"key\" message here is that we are going to build probabilistic models -- we will maintain uncertainty over future possibilities. \n",
    "\n",
    "### Probabilistic programming\n",
    "\n",
    "We will use a computational representation where **random variables** are *first-class* values and we can write down our models without writing down the detailed mechanics of inference itself.\n",
    "\n",
    "This is **probabilistic programming**. We will use [PyMC](https://pymc-devs.github.io/pymc/) to construct our probabilistic models.\n",
    "\n",
    "---------------"
   ]
  },
  {
   "cell_type": "markdown",
   "metadata": {},
   "source": [
    "### Why is this computational HCI?\n",
    "We will build a **principed, statistical model** of user behavior that we can reason about, and estimate parameters of that model from quantitative observations of data. \n",
    "\n",
    "This model is **robust** (it appropriately represents uncertainty) and **generative** (it can simulate behaviour compatible with observations).  \n",
    "\n",
    "The *generative* nature of the model is particularly important in powering optimisation approaches; being able to simulate potential human behaviours can save having to engage in very slow human data acquisition. If the equivalent function evaluation can be done from a realistic model, the optimisation can be radically sped up. "
   ]
  },
  {
   "cell_type": "markdown",
   "metadata": {},
   "source": [
    "# Background\n",
    "## Probabilistic approaches\n",
    "<a id=\"bayesian\"> </a>\n",
    "#### Random variables\n",
    "A *random variable* is a variable that can take on different values, but we do not know what value it has; i.e. one that is \"unassigned\". Probability theory allows us to manipulate random variables without having to assign them a specific value.\n",
    "\n",
    "#### Distributions\n",
    "A *probability distribution* defines how likely different states of a random variable are. The probability distribution of a random variable $X$ is written:\n",
    "$$P(X)$$\n",
    "and is shorthand for the expression\n",
    "$$Pr(X=x),$$ i.e. that the variable $X$ takes on the specific value $x$.\n",
    "\n",
    "Random variables can be continuous (e.g. the height of a person) or discrete (the value showing on the face of a dice). The distribution of a discrete variable is described with a *probability mass function* (PMF) which gives each outcome a specific value. A continuous variable has a *probability density function* (PDF) which specifies the spread of the probability as a continuous function.\n",
    "\n",
    "A probability distribution must assign probabilities in the range 0 (impossible) to 1 (definite) and the PMF or PDF **must** sum/integrate to exactly 1 as the random variable under consideration must take on *some* value. \n",
    "\n",
    "---\n",
    "\n",
    "## PMF example: sum of dice rolls\n",
    "A very simple discrete PMF is the expected value of the sum of two six-faced die. In this case, $P(X) = P(D_1+D_2)$ for two uniform discrete variables $D_1, D_2 \\in \\{1,2,3,4,5,6 \\}$"
   ]
  },
  {
   "cell_type": "code",
   "execution_count": null,
   "metadata": {
    "collapsed": false
   },
   "outputs": [],
   "source": [
    "# the PMF of the sum of two dice rolls\n",
    "def two_dice():\n",
    "    # form the sum of the cross product of these possibilities\n",
    "    roll_two = [i+j for i in range(1,7) for j in range(1,7)]\n",
    "    # now plot the histogram\n",
    "    pmf, edges, patches = plt.hist(roll_two, normed=True, bins=range(1,14))\n",
    "    print(\"Sum of PMF %.2f\" % np.sum(pmf)) # sum of probability should be *exactly* 1.0\n",
    "    plt.title(\"PMF of sum of 2d6 dice\")\n",
    "    plt.xlabel(\"Sum of rolls x\")\n",
    "    plt.ylabel(\"P(x)\")"
   ]
  },
  {
   "cell_type": "code",
   "execution_count": null,
   "metadata": {
    "collapsed": false,
    "scrolled": true
   },
   "outputs": [],
   "source": [
    "two_dice()"
   ]
  },
  {
   "cell_type": "markdown",
   "metadata": {},
   "source": [
    "## PDF example: the normal disribution\n",
    "The most ubiquitous of all continuous PDFs is the **normal** or **Gaussian** distribution. It assigns probabilities to real values $x \\in {\\mathbb{R}}$. It has a density given by the PDF:\n",
    "\n",
    "$$P(X) = \\frac{1}{\\sqrt{2\\pi\\sigma^2}}\\, e^{-\\frac{(x - \\mu)^2}{2 \\sigma^2}}$$"
   ]
  },
  {
   "cell_type": "code",
   "execution_count": null,
   "metadata": {
    "collapsed": false
   },
   "outputs": [],
   "source": [
    "import scipy.stats as stats\n",
    "# Plot the PDF of the normal distribution\n",
    "def plot_normal():\n",
    "    # plot the normal (Gaussian distibution) along with a set of points drawn from that distribution\n",
    "    x = np.linspace(-4,4,100)\n",
    "    y = stats.norm.pdf(x,0,1) # mean 0, std. dev. 1\n",
    "    plt.plot(x,y, label=\"PDF\")\n",
    "    plt.axhline(0, color='k', linewidth=0.2) # axis line\n",
    " \n",
    "    # mark the mean\n",
    "    plt.text(0, 0.51, '$\\mu$')\n",
    "    plt.axvline(0, color='r')\n",
    "    # highlight one std. dev. to the right\n",
    "    plt.axvspan(0,1, facecolor='b', alpha=0.1, label=\"1 std. dev.\")\n",
    "    plt.text(1.2, 0.3, '$\\sigma$')\n",
    "    # take 1000 random samples and scatter plot them\n",
    "    samples = stats.norm.rvs(0,1,1000)\n",
    "    plt.scatter(samples, np.full(samples.shape, .2), s=448, c='b', alpha=0.1, marker='|', label=\"Samples\")\n",
    "    plt.xlabel(\"$x$\")\n",
    "    plt.ylabel(\"$P(x)$\")\n",
    "    plt.legend()"
   ]
  },
  {
   "cell_type": "code",
   "execution_count": null,
   "metadata": {
    "collapsed": false,
    "scrolled": true
   },
   "outputs": [],
   "source": [
    "plot_normal()"
   ]
  },
  {
   "cell_type": "markdown",
   "metadata": {},
   "source": [
    "### Joint, marginal, conditional\n",
    "The *joint probability* of two random variables is written $$P(x,y)$$ and gives the probability that $x$ and $y$ take the a specific value *simultaneously* (i.e. $Pr(X=x) \\land Pr(Y=y)$). \n",
    "\n",
    "The *marginal probability* is the derivation of $P(x)$ from $P(x,y)$ by integrating (summing) over all the possible choices of $y$:\n",
    "$$P(x) = \\int_y P(x,y) dy$$.\n",
    "\n",
    "**Marginalisation** just means integration over one or more variables from a joint distribution: it *removes* those variables from the distribution.\n",
    "\n",
    "Two random variables are *independent* if the they do not have any dependence on each other. If this is the case then the joint distribution is just the product of the individual distributions:\n",
    "$P(x,y) = P(x)P(y).$ This is not true in the general case where the variables have dependence.\n",
    "\n",
    "The *conditional probability* of $x$ **given** $y$ is written as $$P(x|y)$$ and can be computed as $$P(x|y) = \\frac{P(x,y)}{P(y)}.$$ This tells us how likely $x$ is to occur **if we already know**  (or fix) the value of $y$.\n"
   ]
  },
  {
   "cell_type": "code",
   "execution_count": null,
   "metadata": {
    "collapsed": false
   },
   "outputs": [],
   "source": [
    "def joint_marginal(cov):\n",
    "    # create an independent 2D normal distribution\n",
    "    x,y = np.meshgrid(np.linspace(-3,3,50), np.linspace(-3,3,50))\n",
    "    pos = np.empty(x.shape + (2,))\n",
    "    pos[:,:,0] = x\n",
    "    pos[:,:,1] = y\n",
    "    joint_pdf = scipy.stats.multivariate_normal.pdf(pos, [0,0], cov)\n",
    "    fig = plt.figure()\n",
    "    # plot the joint\n",
    "    ax = fig.add_subplot(2,2,1)\n",
    "    ax.axis('equal')\n",
    "    plt.title(\"Joint p(x,y)\")\n",
    "    ax.pcolor(x,y,joint_pdf, cmap='viridis')\n",
    "    # plot the marginals\n",
    "    ax = fig.add_subplot(2,2,3)\n",
    "    ax.axis('equal')\n",
    "    plt.title(\"Marginal $P(x) = \\int\\  P(x,y) dy$\")\n",
    "    ax.plot(x[0,:], np.sum(joint_pdf, axis=0))\n",
    "    ax = fig.add_subplot(2,2,2)\n",
    "    ax.axis('equal')\n",
    "    plt.title(\"Marginal $P(y) = \\int\\  P(x,y) dx$\")\n",
    "    ax.plot(np.sum(joint_pdf, axis=1), x[0,:])\n",
    "    # plot p(x|y)\n",
    "    ax = fig.add_subplot(2,2,4)\n",
    "    ax.axis('equal')\n",
    "    plt.title(\"Conditional $P(x|y) = \\\\frac{P(x,y)}{P(y)}$\")\n",
    "    marginal = np.tile(np.sum(joint_pdf, axis=0), (joint_pdf.shape[0],1))\n",
    "    ax.pcolor(x,y,joint_pdf/marginal, cmap='viridis')\n",
    "joint_marginal([[1,0],[0.5,1]])"
   ]
  },
  {
   "cell_type": "markdown",
   "metadata": {},
   "source": [
    "## Probability theory and Bayesian inference\n",
    "\n",
    "#### Probability as a calculus of belief\n",
    "*Bayesians* treat probability as a **calculus of belief**; in this model of thought, probabilities are measures of degrees of belief. $P(A)=0$ means a belief that $A$ cannot be true and $P(A)=1$ is a belief that $A$ is absolutely certain.\n",
    "\n",
    "\n",
    "#### Probability as the optimal way of representing uncertainty\n",
    "Other representations of uncertainty are strictly inferior to probabilistic methods *in the sense that* a person, agent, computer placing \"bets\" on future events using probabilistic models has the best possible return out of all decision systems when there is uncertainty. \n",
    "\n",
    "*Bayesians* allow for belief in states to be combined and manipulated via the rules of probability. The key process in Bayesian logic is *updating of beliefs*. Given some *prior* belief (it's Glasgow, it's not likely to be sunny) and some new evidence (there seems to be a bright reflection inside) we can update our belief to calculate the *posterior* -- our new probability that it is sunny outside. Bayesian inference requires that we accept priors over events, i.e. that we must explicitly quantify our assumptions with probability distributions. "
   ]
  },
  {
   "cell_type": "markdown",
   "metadata": {},
   "source": [
    "### Axioms of probability\n",
    " \n",
    "There are only a few basic axioms of probability:\n",
    "#### Boundedness\n",
    "$$0 \\leq P(A) < 1$$ all possible events $A$ -- probabilities are 0, or positive and less than 1.\n",
    "#### Sum to unity\n",
    "$$\\sum_A P(A)=1$$ for the complete set of possible values $A \\in \\sigma$ in a set of possibilities $\\sigma$ -- something always happens.\n",
    "#### Joint probability\n",
    "$$P(A \\lor B) = P(A) + P(B) - P(A \\land B),$$ i.e. the probability of either of $A$ or $B$ happening is the sum of the independent probabilities minus the probability of both happening.\n",
    "\n",
    "#### Conditional probability\n",
    "The conditional probability $P(A|B)$ means the probability that $B$ will happen *given that we already know $B$ to have happened*.\n",
    "$$P(A|B) = \\frac{P(A \\land B)}{ P(B)}$$\n",
    "\n",
    "### Events\n",
    "Note that we can see an \"event\" as a random variable taking on a specific value i.e. $P(X=x)$\n"
   ]
  },
  {
   "cell_type": "markdown",
   "metadata": {},
   "source": [
    "#### Prior, likelihood, posterior\n",
    "We often want to know the probability of a model $H$ (and its parameters $\\theta$) given some data $p(H, \\theta|D)$. But we are often in the situation that we can only compute the likelihood of the data being generated by the model. Bayes' rule gives a consistent way to invert the probability distribution, taking a prior into account:\n",
    "$$ P(A|B) = \\frac{P(B|A) P(A)}{P(B)} $$\n",
    "\n",
    "$$ P(H,\\theta|D) = \\frac{P(D|H,\\theta) P(H,\\theta)}{P(D)} $$\n",
    "\n",
    "$P(A|B)$ is called the *posterior*, $P(B|A)$ is called the *likelihood*, $P(A)$ is the *prior* and $P(B)$ is the *evidence*. Bayes' rule gives a consistent rule to take some prior belief and combine it with observed data to estimate a new distribution which combines them."
   ]
  },
  {
   "cell_type": "code",
   "execution_count": null,
   "metadata": {
    "collapsed": false
   },
   "outputs": [],
   "source": [
    "def prior_posterior(prior_mean=0, prior_std=1, n=10):\n",
    "    mean = prior_mean\n",
    "    std = prior_std\n",
    "    var = std*std\n",
    "    prior = scipy.stats.norm(mean,std)\n",
    "    evidence = scipy.stats.norm(1, 0.25)\n",
    "    \n",
    "    xs = np.linspace(-5,5,200)\n",
    "    plt.fill_between(xs, prior.pdf(xs), label=\"Prior\", alpha=0.1)\n",
    "    plt.fill_between(xs, evidence.pdf(xs), label=\"True\", alpha=0.1)\n",
    "    \n",
    "    sample_var = 1.0 # the *expected* variance of our observations\n",
    "    # note that changing this allows us to continously adjust our belief\n",
    "    # in our observations \n",
    "    \n",
    "    for i in range(n):\n",
    "        \n",
    "        sample = evidence.rvs()\n",
    "        # single step update for a normal distribution    \n",
    "        mean = (var * sample + sample_var * mean) / (sample_var + var)\n",
    "        var = (var*sample_var) / (sample_var+var)     \n",
    "        # plot the sample and the resulting pdf\n",
    "        plt.plot([sample,sample],[0,-0.1], 'c', alpha=0.7)\n",
    "        plt.plot(xs, scipy.stats.norm(mean,np.sqrt(var)).pdf(xs), 'k:', alpha=0.5)\n",
    "    plt.plot([sample,sample],[0,-0.1], 'c', alpha=0.7, label=\"Observations\")\n",
    "        \n",
    "    plt.fill_between(xs, scipy.stats.norm(mean,np.sqrt(var)).pdf(xs), color='g', label=\"Posterior\", alpha=0.2)\n",
    "    plt.legend()\n",
    " "
   ]
  },
  {
   "cell_type": "code",
   "execution_count": null,
   "metadata": {
    "collapsed": false
   },
   "outputs": [],
   "source": [
    "   \n",
    "prior_posterior(0,0.75)"
   ]
  },
  {
   "cell_type": "code",
   "execution_count": null,
   "metadata": {
    "collapsed": false
   },
   "outputs": [],
   "source": [
    "   \n",
    "prior_posterior(0,3)"
   ]
  },
  {
   "cell_type": "code",
   "execution_count": null,
   "metadata": {
    "collapsed": false
   },
   "outputs": [],
   "source": [
    "   \n",
    "prior_posterior(-3,0.5)"
   ]
  },
  {
   "cell_type": "code",
   "execution_count": null,
   "metadata": {
    "collapsed": false
   },
   "outputs": [],
   "source": [
    "   \n",
    "prior_posterior(-3,0.5, n=100)"
   ]
  },
  {
   "cell_type": "markdown",
   "metadata": {},
   "source": [
    "#### Log probabilities\n",
    "\n",
    "The probability of multiple **independent** random variables taking on a set of values can be computed from the product:\n",
    "$$P(X,Y,Z) = P(X)P(Y)P(Z)$$\n",
    "and in general\n",
    "$$P(X_1, \\dots, X_n) = \\prod_{i=1}^{n} x_i$$\n",
    "\n",
    "We often have to have to compute such products, but to multiply lots of values $<1$ leads to numerical issues. Instead, we often prefer to manipulate *log probabilities*, which can be summed instead of multiplied:\n",
    "$$\\log P(X_1, \\dots, X_n) = \\sum_{i=1}^{n} \\log P(X_i)$$\n",
    "\n",
    "This is simply a numerical convenience which avoids underflow. The **log-likelihood** is just $\\log P(B|A)$, and is often more convenient to work with than the raw likelihood."
   ]
  },
  {
   "cell_type": "markdown",
   "metadata": {},
   "source": [
    "## Integration over the evidence\n",
    "We can say that the posterior probability is *proportional* to the product of the prior and the likelihood. But to evaluate its value, we need to compute $P(B)$, the evidence. \n",
    "This is tricky, but because probabilities must add up to 1, we can write $P(B)$ as:\n",
    "$$ P(B)  = \\sum_{i} P(B|A_i) P(A_i) $$ \n",
    "for a set of discrete possibilities $A_i$ or\n",
    "$$ P(B) = \\int_{A} P(B|A) P(A) dA $$ for a continuous distribution over $A$. \n",
    "\n",
    "<font color=\"green\"> This trick is essential in understanding Bayesian inference! </font>\n",
    "\n",
    "In general this is difficult to compute. For binary simple cases where there are only two possible outcomes ($A$ can only be true or false), Bayes' rule can be written as:\n",
    "\n",
    "$$P(A|B) = \\frac{P(B|A)P(A)}{P(B|A)P(A) + P(B|\\bar A) P(\\bar A)}, $$ where $\\bar A$ means \"when A is false\". In words:\n",
    "\n",
    "* The probability that it is sunny given I can see a bright reflection is equal to:\n",
    "    * The probability that I would see a bright reflection if it *were* sunny times the probability that it might be sunny \n",
    "        * over\n",
    "    * The probability that I would see a bright reflection if it *were* sunny times the probability that it might be sunny plus the probability that I would see a bright reflection if it were *not* sunny times the probability it might not be sunny.\n",
    "    \n",
    "-----        "
   ]
  },
  {
   "cell_type": "markdown",
   "metadata": {},
   "source": [
    "# Representing probabilistic models for computation"
   ]
  },
  {
   "cell_type": "markdown",
   "metadata": {},
   "source": [
    "\n",
    "#### Graphical models\n",
    "<a id=\"graphical\"> </a>\n",
    "\n",
    "Transformations of expressions to graphs is familiar to most computer scientists -- it is an essential part of most optimising compilers. For example, the equation of a straight line might be written as a graph with dependencies as shown below (this is how a compiler would break down the expression):\n",
    "\n",
    "<img src=\"imgs/ymxc.png\" width=\"300px\">\n",
    "\n",
    "##### Adding unknowns\n",
    "If we have multiple dependent random variables whose distribution we want to infer, we can draw a graph of dependencies to form a *graphical model*.  This explictly models dependencies between **random variables** (i.e. ones we don't know the value of precisely) and inference can be performed on the entire graph. \n",
    "\n",
    "**In CS terms, we are writing expressions down without fixing the variables, and then allowing the distribution of the values to be inferred when we observe data.** This inference process narrows down the likely range a random variable could take on (hopefully!).\n",
    "\n",
    "In a **probabilistic graphical model**, some nodes in the graph are **observed** -- that is we know their state because we have explicity measured it, and others are **unobserved** -- we know (or have guessed) the form of their distribution but not the parameters of that distribution. Some dependencies are deterministic (i.e. fully defined by the values of their parents), while others are stochastic (i.e. are characerised by distributions). We can infer the **posterior** distribution of unobserved nodes by integrating over the possible values that could have occured given the observed values.\n",
    "\n",
    "----\n",
    "### Linear regression\n",
    "\n",
    "We can modify our straight line equation to write a model for **linear regression**:\n",
    "\n",
    "<img src=\"imgs/ymxc_stochastic.png\">\n",
    "\n",
    "All we need to do is specify that we expected the output $y$ to be normally distributed around the equation of a line given by $m$ and $c$; we can now **infer** $\\sigma, m, c$ from observed data. \n",
    "\n",
    "Or we can fix any of them, and infer the remainder (if, e.g. we knew in advance that $c=0$, or that $m$ tended to be large, assuming we could express this prior belief as a valid distribution). \n",
    "\n",
    "Our assumption here is that we will observe data which has a **latent structure** modelled by a linear dependence on a variable $x$, plus some normally-distributed observation noise.\n",
    "\n",
    "**Note that we must put *some* prior distribution on every stochastic node; otherwise we cannot apply Bayes rule and therefore cannot perform updates.**\n",
    "\n",
    "We can't have any \"wild\" stochastic nodes which do not eventually depend on deterministic nodes, via some chain of prior distributions."
   ]
  },
  {
   "cell_type": "markdown",
   "metadata": {},
   "source": [
    "### Sampling\n",
    "We can draw samples from a distribution, which gives us a set of definite (non-random) values which are distributed according to the PDF or PMF. \n",
    "\n",
    "The sample mean $\\mu$ of a set of samples from a distribution is an estimate of the *expectation*, which improves as the number of samples $N$ increases. \n",
    "\n",
    "We can write this as:\n",
    "$$ \\frac{1}{N} \\sum_{i=0}^{N} x_i \\approx E[x] =\\int_x x P(x) dx,$$ where $x_i$ are random samples from $P(x)$. \n",
    "\n",
    "Furthermore, if we want to apply any function $f(x)$ to the distribution (e.g. to answer question like 'what is the expected value of a normal distribution whose \"output\" is squared'), we can estimate of $E[f(x)]$ very simply:\n",
    "$$ \\frac{1}{N} \\sum_{i=0}^{N} f(x_i) \\approx E[f(x)] = \\int_x f(x) P(x) dx,$$.\n"
   ]
  },
  {
   "cell_type": "markdown",
   "metadata": {},
   "source": [
    "### Monte Carlo inference\n",
    "We often cannot compute the integral to normalise the probability distribution on the bottom of formula for Bayes Rule $P(B)$. \n",
    "\n",
    "One common way to get round this is to use *Monte Carlo sampling*, where we approximate the integration over all the parameters by summing over random samples drawn from the distribution of parameters. There are many techinques to do this efficiently, as the naive sampling methods become very inefficient in high dimensional spaces (i.e. $N$ must be very large to reliably sample the space). \n",
    "\n",
    "This allows us to solve the tricky denominator in Bayes Rule:\n",
    "\n",
    "$$ P(A|B) = \\frac{P(B|A) P(A)}{P(B)} $$\n",
    "\n",
    "$$  = \\frac{P(B|A) P(A)}{\\int_{A} P(B|A) P(A) dA} $$ \n",
    "\n",
    "$$  \\approx \\frac{P(B|A) P(A)}{\\frac{1}{N} \\sum_{i=0}^{N} P(B|A_i) P(A_i)} $$ \n",
    "\n",
    "Since we can usually sample from $P(A)$ easily, this becomes very straightforward to compute (as long as we can sample from P(B|A), but there are tricks to do this even if it has an unpleasant form).\n",
    "\n",
    "One of these techniques is *Markov chain Monte Carlo* (MCMC) constructs random walks which \"wander\" about in probablity distributions in a way that makes samples drawn from them represent the true distribution correctly.\n",
    "\n",
    "\n",
    "---"
   ]
  },
  {
   "cell_type": "markdown",
   "metadata": {},
   "source": [
    "----\n",
    "\n",
    "## Let's do it: PyMC\n",
    "<a id=\"pymc\"> </a>\n",
    "We'll use the excellent PyMC module to do the inference. If you have questions about this module, you can read [this tutorial](http://arxiv.org/abs/1507.08050) or the [API docs](https://pymc-devs.github.io/pymc/). There's a new and even nicer version with very powerful capabilities currently called **PyMC3**, but the dependencies are \"hard\" to install at the moment.\n",
    "\n",
    "Let's implement the linear regression model in the intro in practice, using PyMC to build a graphical model and then run MCMC to sample from the posterior (i.e. estimate the distribution of random variables after seeing some evidence)."
   ]
  },
  {
   "cell_type": "code",
   "execution_count": null,
   "metadata": {
    "collapsed": false
   },
   "outputs": [],
   "source": [
    "### Bayesian Linear Regression with pymc\n",
    "### We use Monte Carlo sampling to estimate the distribution of a linear function with a normally\n",
    "### distributed error, given some observed data.\n",
    "### Vaguely based on: http://matpalm.com/blog/2012/12/27/dead_simple_pymc/ and http://sabermetricinsights.blogspot.co.uk/2014/05/bayesian-linear-regression-with-pymc.html\n",
    "\n",
    "## Utility function to plot the graph of a PyMC model\n",
    "def show_dag(model):\n",
    "    dag = mc.graph.dag(model)\n",
    "    dag.write(\"graph.png\",format=\"png\")\n",
    "    from IPython.display import Image\n",
    "    i = Image(filename='graph.png')\n",
    "    return i\n",
    "\n",
    "## generate data with a known distribution\n",
    "## this will be our \"observed\" data\n",
    "x = np.sort(np.random.uniform(0,20, (50,)))\n",
    "m = 2\n",
    "c = 15\n",
    "epsilon = 3\n",
    "# Add on some measurement noise, with std. dev. 3.0\n",
    "noise =   np.random.normal(0,epsilon, x.shape)\n",
    "y = m * x + c + noise\n",
    "\n",
    "plt.scatter(x,y, c='C1', label=\"Datapoints\")\n",
    "plt.plot(x, m*x+c, '--', lw=3, label=\"True\")\n",
    "plt.legend()\n",
    "plt.xlabel(\"x\")\n",
    "plt.xlabel(\"y\")\n",
    "plt.title(\"Synthetic data, and true generating function\")"
   ]
  },
  {
   "cell_type": "code",
   "execution_count": null,
   "metadata": {
    "collapsed": false
   },
   "outputs": [],
   "source": [
    "print(\"True m: %.2f\"%m)\n",
    "print(\"True c: %.2f\"%c)\n",
    "print(\"True epsilon: %.2f\"%epsilon)"
   ]
  },
  {
   "cell_type": "code",
   "execution_count": null,
   "metadata": {
    "collapsed": false
   },
   "outputs": [],
   "source": [
    "## Now, set up the PyMC model\n",
    "## Specify the prior distribution of the unknown line function variables\n",
    "## Here, we assume a normal distribution over m and c\n",
    "# NB: note that these are parameterised as having a mean and a *precision* (1/variance)\n",
    "m_unknown = mc.Normal('m', 0, 0.01)\n",
    "c_unknown = mc.Normal('c', 0, 0.001)\n",
    "\n",
    "## specify a prior over the precision (inverse variance) of the error term\n",
    "# precision = 1/variance\n",
    "## Here we specify a uniform distribution from 0.001 to 10.0\n",
    "precision = mc.Uniform('precision', lower=0.001, upper=10.0)\n",
    "\n",
    "# specify the observed input variable\n",
    "# we use a normal distribution, but this has no effect -- \n",
    "# the values are fixed and the parameters\n",
    "# never updated; this is just a way of transforming x \n",
    "# into a variable pymc can work with\n",
    "# (it's really a hack)\n",
    "x_obs = mc.Normal(\"x_obs\", 0, 1, value=x, observed=True)\n",
    "\n",
    "# our link function, which links our observations to the stochastic\n",
    "# variables\n",
    "@mc.deterministic(plot=False)\n",
    "def line(m=m_unknown, c=c_unknown, x=x_obs):\n",
    "    return x*m+c\n",
    "\n",
    "# specify the observed output variable \n",
    "# (note we use tau instead of sigma, the precision paramterisation)\n",
    "# note that it is critical to realise we are modelling a stochastic output variable\n",
    "# whose *mean* and *variance* we are inferring\n",
    "y_obs =  mc.Normal('y_obs', mu=line, tau=precision, value=y, observed=True)\n",
    "\n",
    "model = mc.Model([m_unknown, c_unknown, precision, x_obs, y_obs])\n",
    "\n",
    "# display the graphical model\n",
    "show_dag(model)"
   ]
  },
  {
   "cell_type": "markdown",
   "metadata": {},
   "source": [
    "## Running the model\n",
    "We can now tell PyMC to perform inference on this graph, given the data observed and the parameters we fixed. We have to specify how many samples to take from the *posterior distribution*. PyMC will then perform the sampling process, and return samples for all of the stochastic variables in the graph."
   ]
  },
  {
   "cell_type": "code",
   "execution_count": null,
   "metadata": {
    "collapsed": false
   },
   "outputs": [],
   "source": [
    "# sample from the distribution\n",
    "mcmc = mc.MCMC(model)\n",
    "mcmc.sample(iter=20000)"
   ]
  },
  {
   "cell_type": "markdown",
   "metadata": {},
   "source": [
    "## Plotting the results\n",
    "We can view the histograms of the posterior samples (called the *trace*). This lets us see the full distribution of possible values these parameters could take on. True Bayesian inference always provides distributions of parameter values rather than point parameter estimates."
   ]
  },
  {
   "cell_type": "code",
   "execution_count": null,
   "metadata": {
    "collapsed": false
   },
   "outputs": [],
   "source": [
    "## plot histograms of possible parameter values\n",
    "plt.figure()\n",
    "plt.hist(mcmc.trace(\"m\")[:], normed=True, bins=30)\n",
    "plt.title(\"Estimate of m\")\n",
    "plt.figure()\n",
    "plt.hist(mcmc.trace(\"c\")[:], normed=True, bins=30)\n",
    "plt.title(\"Estimate of c\")\n",
    "plt.figure()\n",
    "plt.hist(np.sqrt(1.0/mcmc.trace(\"precision\")[:]), normed=True, bins=30)\n",
    "plt.title(\"Estimate of epsilon std.dev.\")\n",
    "plt.figure()"
   ]
  },
  {
   "cell_type": "markdown",
   "metadata": {},
   "source": [
    "## Plotting the model predictions\n",
    "We can also plot the predictions in the form of the regression lines each parameter set would correspond to. By overlaying one regression line for each sample, with suitably low opacity, we can build up an impression of the models that are compatible with the data.\n"
   ]
  },
  {
   "cell_type": "code",
   "execution_count": null,
   "metadata": {
    "collapsed": false
   },
   "outputs": [],
   "source": [
    "## now plot overlaid samples from the linear function\n",
    "ms = mcmc.trace(\"m\")[:]\n",
    "cs = mcmc.trace(\"c\")[:]\n",
    "\n",
    "plt.title(\"Sampled fits\")\n",
    "plt.plot(x, y, '.', label=\"Observed\")\n",
    "plt.plot(x, x*m+c, '--C2', label=\"True\")\n",
    "xf = np.linspace(-20,40,200)\n",
    "for m,c in zip(ms[::20], cs[::20]):    \n",
    "    plt.plot(xf, xf*m+c, 'C1', alpha=0.005)\n",
    "    \n",
    "plt.plot(xf, xf*0, 'C1', alpha=0.00, label=\"Posterior model\")\n",
    "plt.legend()\n",
    "plt.xlim(-20,40)\n",
    "plt.ylim(-40,80)"
   ]
  },
  {
   "cell_type": "markdown",
   "metadata": {},
   "source": [
    "## A simple mixture model\n",
    "We can include both **discrete** and **continuous** variables. A very important case is where we have a **mixture model**. That is, we believe our observations come from one of a number of distributions. For example, in modelling human heights, we might expect height to be normally distributed, but to have two different distributions for men and women.\n",
    "\n",
    "<img src=\"imgs/mixture.png\">\n",
    "\n",
    "It is very straightforward to add this to a PyMC graphical model; it is just another random variable to infer. This model is discrete, rather than continuous, and its value *selects* among possible parameter configurations for child nodes; this is a *hierarchical Bayesian model*."
   ]
  },
  {
   "cell_type": "code",
   "execution_count": null,
   "metadata": {
    "collapsed": false
   },
   "outputs": [],
   "source": [
    "## Adapted from the example given at \n",
    "## http://stackoverflow.com/questions/18987697/how-to-model-a-mixture-of-3-normals-in-pymc\n",
    "\n",
    "n = 3\n",
    "ndata = 800\n",
    "## Generate synthetic mixture-of-normals data, with means at -100,0,+50, and std. dev of 15,5,5\n",
    "v = np.random.randint( 0, n, ndata)\n",
    "data = ((v==0)*(np.random.normal(50,5,ndata)) + \n",
    "        (v==1)*(np.random.normal(-100,15,ndata)) + \n",
    "        (v==2)*np.random.normal(0,5,ndata))\n",
    "## Plot the original data\n",
    "plt.hist(data, bins=50);\n",
    "plt.title(\"Histogram of mixture model synthetic data\")"
   ]
  },
  {
   "cell_type": "code",
   "execution_count": null,
   "metadata": {
    "collapsed": false
   },
   "outputs": [],
   "source": [
    "plt.plot(data, '.')\n",
    "plt.title(\"Scatterplot of synthetic mixture model data\")\n"
   ]
  },
  {
   "cell_type": "markdown",
   "metadata": {},
   "source": [
    "# Graphical models with discrete variables\n",
    "We model this discrete component of our model as a **categorical variable**, which switches between multiple possible normal distributions.\n",
    "\n",
    "We have to estimate:\n",
    "*    the distribution of the categorical variable (i.e. the weightings of the mixture)\n",
    "*    the parameters of each normal\n",
    "\n",
    "This means we assume the data (for 3 mixture components) has three weights ($\\alpha_1, \\alpha_2, \\alpha_3$) and two parameters for each distribution ($\\mu_1, \\sigma_1,\\  \\mu_2, \\sigma_2,\\  \\mu_3, \\sigma_3$)\n",
    "\n",
    "In this case our weights are equal, but we can still infer the distribution and check whether the inference process recovers this uniform distribution.\n",
    "----\n",
    "\n",
    "* We assume we know the *number* of mixtures here (it gets *much* harder to do the inference efficiently if we don't know this)"
   ]
  },
  {
   "cell_type": "code",
   "execution_count": null,
   "metadata": {
    "collapsed": false
   },
   "outputs": [],
   "source": [
    "## A Dirichlet model specifies the prior distribution over categories\n",
    "## All 1 means that every category is equally likely\n",
    "dd = mc.Dirichlet('dd', theta=(1,)*n)\n",
    "\n",
    "## This variable \"selects\" the category (i.e. the normal distribution)\n",
    "## to use. The Dirichlet distribution sets the prior over the categories.\n",
    "category = mc.Categorical('category', p=dd, size=ndata)\n",
    "#category = mc.Container([mc.Categorical(\"category%i\" % i, p=dd) \n",
    "#                         for i in range(ndata)])\n",
    "\n",
    "## Now we set our priors the precision and mean of each normal distribution\n",
    "## Note the use of \"size\" to generate a **vector** of variables \n",
    "## (i.e. one for each category)\n",
    "\n",
    "## We expect the precision of each normal to be Gamma \n",
    "## distributed (this mainly forces it to be positive!)\n",
    "precs = mc.Gamma('precs', alpha=0.1, beta=0.1, size=n)\n",
    "\n",
    "## And the means of the normal to be normally distributed, \n",
    "## with a precision of 0.01 (i.e. std. dev 100)\n",
    "means = mc.Normal('means', 0, 0.01, size=n)\n",
    "\n",
    "## These deterministic functions link the means of the \n",
    "## observed distribution to the categories\n",
    "## They just select one of the elements of the \n",
    "## mean/precision vector, given the current value of category\n",
    "## The input variables must be specified in the parameters, \n",
    "## so that PyMC knows which variables to pass to it\n",
    "@mc.deterministic\n",
    "def mean(category=category, means=means):\n",
    "    return means[category]\n",
    "\n",
    "@mc.deterministic\n",
    "def prec(category=category, precs=precs):\n",
    "    return precs[category]\n",
    "\n",
    "\n",
    "## Now we specify the variable we observe -- which is normally distributed, *but*\n",
    "## we don't know the mean or precision. \n",
    "## Instead, we pass the **functions** mean() and pred()\n",
    "## which will be used at each sampling step.\n",
    "## We specify the observed values of this node, and tell PyMC these are observed \n",
    "## This is all that is needed to specify the model\n",
    "obs = mc.Normal('obs', mean, prec, value=data, observed = True)\n",
    "\n",
    "## Now we just bundle all the variables together for PyMC\n",
    "model = mc.Model({'dd': dd,\n",
    "              'category': category,\n",
    "              'precs': precs,\n",
    "              'means': means,\n",
    "              'obs': obs})"
   ]
  },
  {
   "cell_type": "code",
   "execution_count": null,
   "metadata": {
    "collapsed": false
   },
   "outputs": [],
   "source": [
    "\n",
    "def show_dag(model):\n",
    "    dag = mc.graph.dag(model)\n",
    "    dag.write(\"graph.png\",format=\"png\")\n",
    "    from IPython.display import Image\n",
    "    i = Image(filename='graph.png')\n",
    "    return i\n",
    "    \n",
    "show_dag(model)    "
   ]
  },
  {
   "cell_type": "code",
   "execution_count": null,
   "metadata": {
    "collapsed": false
   },
   "outputs": [],
   "source": [
    "mcmc = mc.MCMC(model)\n",
    "\n",
    "## Now we tell the sampler what method to use\n",
    "## Metropolis works well, but we must tell PyMC to use a specific\n",
    "## discrete sampler for the category variable to get good results in a reasonable time\n",
    "mcmc.use_step_method(mc.AdaptiveMetropolis, model.means)\n",
    "mcmc.use_step_method(mc.AdaptiveMetropolis, model.precs)\n",
    "mcmc.use_step_method(mc.DiscreteMetropolis, model.category, proposal_distribution='Prior')\n",
    "\n",
    "#mcmc.use_step_method(mc.DiscreteMetropolis, model.category) ## this step is key!\n",
    "mcmc.use_step_method(mc.AdaptiveMetropolis, model.dd)\n",
    "\n",
    "## Run the sampler (we'll discuss burn and thin later)\n",
    "mcmc.sample(iter=525000, burn=10000)"
   ]
  },
  {
   "cell_type": "markdown",
   "metadata": {},
   "source": [
    "# Results\n",
    "Again, we can plot the histograms of the \"trace\" of the MCMC sampling process. This gives us samples from the posterior distribution."
   ]
  },
  {
   "cell_type": "code",
   "execution_count": null,
   "metadata": {
    "collapsed": false
   },
   "outputs": [],
   "source": [
    "plt.figure()\n",
    "plt.hist(mcmc.trace('means').gettrace()[:], normed=True)\n",
    "plt.title(\"Estimated means\")\n",
    "plt.legend(['Component 1', 'Component 2', 'Component 3'])\n",
    "plt.figure()\n",
    "## show the result in terms of std. dev. (i.e sqrt(1.0/precision))\n",
    "plt.title(\"Estimated std. dev\")\n",
    "plt.hist(np.sqrt(1.0/mcmc.trace('precs').gettrace()[:]), normed=True)\n",
    "plt.legend(['Component 1', 'Component 2', 'Component 3'])"
   ]
  },
  {
   "cell_type": "code",
   "execution_count": null,
   "metadata": {
    "collapsed": false
   },
   "outputs": [],
   "source": [
    "pmf, bins, patches = plt.hist(mcmc.trace('category').gettrace()[:].ravel(), normed=True, bins=[0,1,2,3])\n",
    "print(np.sum(pmf))"
   ]
  },
  {
   "cell_type": "markdown",
   "metadata": {},
   "source": [
    "## Predictive posterior: sampling from the model\n",
    "What we have plotted is the **posterior distribution of the model parameters**; i.e. the values we expect the model parameters to take on given the data we observed and our prior.\n",
    "\n",
    "The **predictive posterior** is the *distribution over observations* we would expect to see. This means drawing samples from the model, while integrating over parameters from the posterior. By sampling from the predictive posterior, we are generating new synthetic data that should have the same statistical properties as the data (if our model is good).\n",
    "\n",
    "One simple way of drawing samples from the predictive posterior is to iterate through the posterior samples, then sample from the model with the parameters fixed to the values for that posterior sample.\n"
   ]
  },
  {
   "cell_type": "code",
   "execution_count": null,
   "metadata": {
    "collapsed": false
   },
   "outputs": [],
   "source": [
    "means = mcmc.trace('means').gettrace()[:]\n",
    "precs = mcmc.trace('precs').gettrace()[:]\n",
    "categories = mcmc.trace('category').gettrace()[:]\n",
    "# iterate over all posterior samples\n",
    "samples = []\n",
    "for i in range(len(means)):\n",
    "    # sample from the predictive posterior\n",
    "    # we just draw five samples here; we could draw lots of them, giving better \"resolution\"\n",
    "    for j in range(5):\n",
    "        cat = categories[i][np.random.randint(0, ndata)]\n",
    "        samples.append(mc.rnormal(means[i][cat],precs[i][cat]))\n",
    "\n",
    "plt.hist(samples, bins=np.linspace(-200, 200, 100));"
   ]
  },
  {
   "cell_type": "markdown",
   "metadata": {},
   "source": [
    "## Model likelihood\n",
    "As a further visualisation, we can visualise the *likelihood* of the data given the model, $P(D|H,\\theta)$. All we have is samples from the posterior, so we can only compute the likelihood for each of those samples. This gives a trace of the likelihood. We can visualise this using a Box plot:\n"
   ]
  },
  {
   "cell_type": "code",
   "execution_count": null,
   "metadata": {
    "collapsed": false
   },
   "outputs": [],
   "source": [
    "import mcmc_utils\n",
    "plt.boxplot(mcmc_utils.logp_trace(mcmc, model, n_samples=20000));"
   ]
  },
  {
   "cell_type": "markdown",
   "metadata": {},
   "source": [
    "We can compare this likelihood with that of a simpler model (here, a single Gaussian, instead of a mixture)"
   ]
  },
  {
   "cell_type": "code",
   "execution_count": null,
   "metadata": {
    "collapsed": false
   },
   "outputs": [],
   "source": [
    "# simple single Gaussian model\n",
    "precs = mc.Gamma('precs', alpha=0.1, beta=0.1, size=n)\n",
    "means = mc.Normal('means', 0, 0.001, size=n)\n",
    "obs = mc.Normal('obs', mean, prec, value=data, observed = True)\n",
    "\n",
    "model_simple = mc.Model({\n",
    "              'precs': precs,\n",
    "              'means': means,\n",
    "              'obs': obs})\n",
    "mcmc_simple = mc.MCMC(model_simple)\n",
    "mcmc_simple.sample(iter=525000, burn=10000)"
   ]
  },
  {
   "cell_type": "code",
   "execution_count": null,
   "metadata": {
    "collapsed": false
   },
   "outputs": [],
   "source": [
    "import mcmc_utils\n",
    "plt.boxplot(mcmc_utils.logp_trace(mcmc_simple, model_simple, n_samples=40000));"
   ]
  },
  {
   "cell_type": "markdown",
   "metadata": {},
   "source": [
    "------\n",
    "\n",
    "\n",
    "## Practical: Modelling typing with a MCMC model\n",
    "<a id=\"practical\"> </a>\n",
    "\n",
    "Back to the keyboard! We'd like to be able to produce probabilistic models of human behaviour; ideally *generative* models which could used to simulate plausible approximations of real behaviour.\n",
    "\n",
    "<img src=\"imgs/qwerty.png\">\n",
    "*[Image credit: Mysid - Own work, CC BY-SA 3.0, https://commons.wikimedia.org/w/index.php?curid=364930]*\n",
    "\n",
    "In this practical, we'll model key press behaviour; in particular\n",
    "we will build a simple model which assumes *key hold durations* (how long each key is held down for) are assumed to be *LogNormal* distributed with distribution parameters that are different for each **type** of key; in this example:\n",
    "\n",
    "* 0: **navigation arrows** \n",
    "* 1: **backspace** \n",
    "* 2: **printable characters** numbers, letters, punctuation, whitespace\n",
    "\n",
    "Your task is to estimate the parameters of the LogNormal distribution for each of these three possible key classes (i.e. a mixture model), and see if there are any systematic differences. This involves building a model much like the one above, but with a mixture component that is **observed** rather than inferred.\n",
    "\n",
    "This will be based on a keylog of approximately 6000 key presses (my keypresses editing an old summerschool notebook)."
   ]
  },
  {
   "cell_type": "markdown",
   "metadata": {},
   "source": [
    "------\n",
    "\n",
    "## Steps\n",
    "\n",
    "The steps needed to complete this task are as follows:\n",
    "1. Load the data\n",
    "1. Eyeball the data\n",
    "1. Classify the keys into different types\n",
    "1. Construct the MCMC model\n",
    "1. Run it\n",
    "1. Display the results\n",
    "\n",
    "Steps 1-3 are provided below. You will need to complete steps 4-6, by adapting the MCMC sampling code provided above.\n",
    "\n",
    "For Step 4, You will need to construct the PyMC model specification, then run the MCMC sampler, much as in the example above.  But the inter-key timings should be a Lognormal rather than normal (Gaussian). Key timings are (obviously!) positive and are right-skewed; log-normal distributions model this well. **Note that this is a mixture model, but unlike the above example, the mixture component is an *observed* variable (you know the key class)**"
   ]
  },
  {
   "cell_type": "code",
   "execution_count": null,
   "metadata": {
    "collapsed": false
   },
   "outputs": [],
   "source": [
    "lognorm = scipy.stats.lognorm(s=1, loc=0)\n",
    "x = np.linspace(-0.5, 5, 200)\n",
    "\n",
    "plt.plot(x, lognorm.pdf(x))\n",
    "plt.title(\"Log-normal PDF\")"
   ]
  },
  {
   "cell_type": "markdown",
   "metadata": {},
   "source": [
    "## 1. Loading data\n",
    "\n",
    "We can load the data from `keylogs.csv`. This has four columns:\n",
    "\n",
    "        user_id  delta_t  duration_t  keycode\n",
    "\n",
    "* `user_id` is a unique integer per-user (there is only one user here). * `delta_t` is in milliseconds *since the previous keydown event*.  \n",
    "*`duration_t` is the duration the key was held down, in milliseconds. \n",
    "* `keycode` is the keycode (result of `e.which` in Javascript) of the keypress.\n",
    "       "
   ]
  },
  {
   "cell_type": "code",
   "execution_count": null,
   "metadata": {
    "collapsed": false
   },
   "outputs": [],
   "source": [
    "# Load the data, and give the columns sensible names\n",
    "keylog = pd.read_csv('jupyter_keylog.csv', \n",
    "                         names=['user_id', 'delta_t', 'duration_t', 'keycode'])"
   ]
  },
  {
   "cell_type": "code",
   "execution_count": null,
   "metadata": {
    "collapsed": false
   },
   "outputs": [],
   "source": [
    "# summarize the data\n",
    "print(keylog.describe())"
   ]
  },
  {
   "cell_type": "markdown",
   "metadata": {},
   "source": [
    "## 2. Eyeballing data\n",
    "Histograms are a quick way to visualise the distributions. You can try alternative visualisations if \n",
    "you are interested (e.g. a scatterplot of `duration_t` versus `delta_t`)."
   ]
  },
  {
   "cell_type": "code",
   "execution_count": null,
   "metadata": {
    "collapsed": false
   },
   "outputs": [],
   "source": [
    "plt.hist(keylog.delta_t, bins=np.linspace(0,500,50))\n",
    "plt.title(\"Delta T\")\n",
    "plt.xlabel(\"Milliseconds\")\n",
    "plt.ylabel(\"Count\")"
   ]
  },
  {
   "cell_type": "code",
   "execution_count": null,
   "metadata": {
    "collapsed": false
   },
   "outputs": [],
   "source": [
    "plt.hist(keylog.duration_t, bins=np.linspace(0,500,50));\n",
    "plt.title(\"Duration T\")\n",
    "plt.xlabel(\"Milliseconds\")\n",
    "plt.ylabel(\"Count\")"
   ]
  },
  {
   "cell_type": "code",
   "execution_count": null,
   "metadata": {
    "collapsed": false
   },
   "outputs": [],
   "source": [
    "plt.hist(keylog.keycode, bins=np.arange(1,100));\n",
    "plt.title(\"Keycode\")\n",
    "plt.xlabel(\"Keycode\")\n",
    "plt.ylabel(\"Count\")"
   ]
  },
  {
   "cell_type": "markdown",
   "metadata": {},
   "source": [
    "## 3. Classifying keys"
   ]
  },
  {
   "cell_type": "markdown",
   "metadata": {},
   "source": [
    "We can classify keys using the `keys` module, which lets us classify keys into semantic categories."
   ]
  },
  {
   "cell_type": "code",
   "execution_count": null,
   "metadata": {
    "collapsed": false
   },
   "outputs": [],
   "source": [
    "import keys\n",
    "# these are all the key types known to the keys module\n",
    "print(keys.get_key_types())"
   ]
  },
  {
   "cell_type": "code",
   "execution_count": null,
   "metadata": {
    "collapsed": false
   },
   "outputs": [],
   "source": [
    "# convert a list of keycodes to their names, so we can see what kind of\n",
    "# data we are dealing with\n",
    "print(keys.key_to_name(keylog.keycode[0:100]))"
   ]
  },
  {
   "cell_type": "markdown",
   "metadata": {},
   "source": [
    "### Getting class indices"
   ]
  },
  {
   "cell_type": "markdown",
   "metadata": {},
   "source": [
    "The easiest way to encode information for the MCMC model is to use integer indices for each key \"class\", so that a standard `Categorical` variable type can be used.\n",
    "\n",
    "To classify keys into discrete classes, we can use `keys.classify_keys(k, classes)`. This takes a list of possible classes, and for each key, it will output which classes it belongs to. This will be a list of indices (since in theory one key might be able to belong to multiple key classes). The list will be empty if the key does not fall into any of the specified classes."
   ]
  },
  {
   "cell_type": "code",
   "execution_count": null,
   "metadata": {
    "collapsed": false
   },
   "outputs": [],
   "source": [
    "print(keys.classify_keys(keylog.keycode[0:100], ['letters', 'backspace']))"
   ]
  },
  {
   "cell_type": "markdown",
   "metadata": {},
   "source": [
    "## Creating the final dataset for inference\n",
    "We classify the keys into `arrow`, `backspace` and `character_keys` as the three classes. Since each key can only belong to one of these classes, we filter this into a list of integers, one per key, with `None` for keys not having any of these classes."
   ]
  },
  {
   "cell_type": "code",
   "execution_count": null,
   "metadata": {
    "collapsed": false
   },
   "outputs": [],
   "source": [
    "class_names = ['arrows', 'backspace', 'character_keys']\n",
    "classes = keys.classify_keys(keylog.keycode, class_names)\n",
    "filtered_classes = [c[0] if len(c)>0 else None for c in classes]\n",
    "print(filtered_classes[0:100])"
   ]
  },
  {
   "cell_type": "markdown",
   "metadata": {},
   "source": [
    "Then we filter both the keycodes *and* the corresponding `duration_t`, removing any `None` keys, to create two new lists:\n",
    "* a list of class codes\n",
    "* a list of corresponding durations\n"
   ]
  },
  {
   "cell_type": "code",
   "execution_count": null,
   "metadata": {
    "collapsed": false
   },
   "outputs": [],
   "source": [
    "class_codes = []\n",
    "durations = []\n",
    "for key_class, duration in zip(filtered_classes, keylog.duration_t):\n",
    "    if key_class is not None:\n",
    "        class_codes.append(key_class)\n",
    "        durations.append(duration)\n",
    "        "
   ]
  },
  {
   "cell_type": "markdown",
   "metadata": {},
   "source": [
    "## Dataset complete\n",
    "This is our final dataset for the MCMC model."
   ]
  },
  {
   "cell_type": "code",
   "execution_count": null,
   "metadata": {
    "collapsed": false
   },
   "outputs": [],
   "source": [
    "# just print the first 100 elements of each of these vectors\n",
    "print(class_codes[0:100])\n",
    "print(durations[0:100])"
   ]
  },
  {
   "cell_type": "markdown",
   "metadata": {},
   "source": [
    "## 4. Construct the model"
   ]
  },
  {
   "cell_type": "markdown",
   "metadata": {},
   "source": [
    "## Hints\n",
    "* Use a prior of `p=[1/3.0, 1/3.0, 1/3.0]` for the Categorical variable (even though it is observed, a value for `p` is required)\n",
    "* Make sure you flag the Categorical variable as being observed\n",
    "* You can reuse the same priors for mean and prec as in the previous example (the parameters of the priors have little effect on the inference, as you can check yourself)\n",
    "* Show your model with `show_dag()` before running it."
   ]
  },
  {
   "cell_type": "code",
   "execution_count": null,
   "metadata": {
    "collapsed": false
   },
   "outputs": [],
   "source": [
    "# Solution\n",
    "# Put the MCMC model definition here\n"
   ]
  },
  {
   "cell_type": "code",
   "execution_count": null,
   "metadata": {
    "collapsed": false
   },
   "outputs": [],
   "source": [
    "# Solution\n",
    "show_dag(model)"
   ]
  },
  {
   "cell_type": "markdown",
   "metadata": {},
   "source": [
    "## 5. Run the model"
   ]
  },
  {
   "cell_type": "code",
   "execution_count": null,
   "metadata": {
    "collapsed": false
   },
   "outputs": [],
   "source": [
    "## Solution\n",
    "# Run your model"
   ]
  },
  {
   "cell_type": "markdown",
   "metadata": {},
   "source": [
    "## 6. Report the results\n",
    "* You can use the traces above\n",
    "* It is also informative to try drawing samples from the posterior distributions. PyMC2 has no convenient method to do this directly (PyMC3 does), but you can just iterate through a bunch of the mean/prec, and then sample from a corresponding distribution.\n",
    "\n",
    "In PyMC, sampling from any distribution with known parameters can be done using mc.r[XXX], where [XXX] is the lowercase distribution name. \n",
    "    \n",
    "    rnormal(0, 1) # draw a sample from Normal, mean=0, precision=1\n",
    "    rlognormal(0, 1) # draw a sample from the log Normal with u=0, precision=1\n",
    "    rgamma(0.1, 0.1) # draw a sample from the Gamma distribution with  alpha=0.1, beta = 0.1\n"
   ]
  },
  {
   "cell_type": "code",
   "execution_count": null,
   "metadata": {
    "collapsed": false
   },
   "outputs": [],
   "source": [
    "# 5 samples from lognormal, mu=0, prec=1\n",
    "mc.rlognormal(0,1,size=5)"
   ]
  },
  {
   "cell_type": "code",
   "execution_count": null,
   "metadata": {
    "collapsed": false
   },
   "outputs": [],
   "source": [
    "# Solution\n",
    "# show visualisations like trace histograms, predicitive posterior"
   ]
  },
  {
   "cell_type": "markdown",
   "metadata": {},
   "source": [
    "# Further thoughts\n",
    "There are lots of interesting things we could also have done with just this subset of the data (class + duration):\n",
    "* Explored different models for the time distribution (e.g. Gamma instead of lognormal)\n",
    "* Predicted the key class *given* the duration.\n",
    "* Try **clustering** the durations (e.g. with a Dirichlet process) and see if we can infer groupings of key behaviour that correspond to key classes or keyboard locations.\n",
    "\n",
    "\n"
   ]
  },
  {
   "cell_type": "markdown",
   "metadata": {},
   "source": [
    "## MCMC in practice: sampling issues\n",
    "<a id=\"sampling\"> </a>\n",
    "\n",
    "The **great thing** about MCMC approaches is that you can basically write down your model and then run inference directly. There is no need to derive complex approximations, or to restrict ourselves to limited models for which we can compute answers analyitically.\n",
    "\n",
    "MCMC allows us to use distributions *we can't even sample from directly*. First we couldn't calculate the evidence P(B), so we integrated; but we couldn't solve the integral, so we sampled; but then we couldn't directly sample from the distribution so we used MCMC. It's a very general approach! (approaches like approximate Bayesian computation (ABC) let us even do inference when we can't **evaluate** the likelihood, never mind sample from it)\n",
    "\n",
    "The **bad thing** about MCMC approaches is that, even though it will do the \"right thing\" *asymptotically*, the choice of sampling strategy has a very large influence for the kind of sample runs that are practical to execute.\n",
    "\n",
    "Bayesian inference should depend only on the priors and the evidence observed; but MCMC approaches also depend on the sampling strategy used to approximate the posterior. \n",
    "\n",
    "## How MCMC works\n",
    "We'll briefly describe how MCMC actually works, its limitations, and how we can detect MCMC problems and correct for them.\n"
   ]
  },
  {
   "cell_type": "markdown",
   "metadata": {},
   "source": [
    "### Rejection sampling\n",
    "\n",
    "The simplest way to perform Monte Carlo sampling for a distribution we can't sample directly is to do **rejection sampling**. We have a distribution we want to sample given by a pdf $p(x)$, and instead sample from an easy distribution $q(x)$, (usually uniform, i.e. a box) where $q(x)>p(x) \\forall x$. Then, we draw a new sample $x_q$ from $q(x)$ (horizontal sample) and then sample uniformly from $x_s = [0,x_q]$ (vertical sample) and see if $x_s<f(x_q)$. If we so we keep it as a draw from the distribution, otherwise we reject it.\n",
    "\n"
   ]
  },
  {
   "cell_type": "code",
   "execution_count": null,
   "metadata": {
    "collapsed": false
   },
   "outputs": [],
   "source": [
    "def rejection_sample(p,interval_x, interval_y, n):\n",
    "    xs = np.random.uniform(interval_x[0], interval_x[1],(n,))    \n",
    "    ys = np.random.uniform(interval_y[0], interval_y[1],(n,))        \n",
    "    kept  = p(xs)>ys\n",
    "    return kept, np.logical_not(kept), xs, ys\n",
    "\n",
    "def odd_pdf(x):\n",
    "    return scipy.stats.halfcauchy.pdf(x, scale=0.1)\n",
    "\n",
    "kept, rejected, xs, ys = rejection_sample(odd_pdf, [-1,1], [0,7], 2000)\n",
    "plt.plot(xs[kept], ys[kept], 'r.')\n",
    "\n",
    "plt.plot(xs[kept], np.zeros_like(xs[kept])+0.01, 'r|', markersize=20)\n",
    "for x,y in zip(xs[kept], ys[kept]):\n",
    "    plt.plot([x,x], [0.01,y], 'r', alpha=0.1)\n",
    "\n",
    "plt.plot(xs[rejected], ys[rejected], 'k.')\n",
    "\n",
    "xf = np.linspace(-1,1,100)\n",
    "plt.plot(xf,odd_pdf(xf), '--')\n",
    "\n",
    "print \"Fraction under the curve: %.2f\" % (np.sum(kept) / float(len(xs)))\n",
    "plt.title(\"Red points are distributed according to the blue PDF\")        "
   ]
  },
  {
   "cell_type": "markdown",
   "metadata": {},
   "source": [
    "### Rejection sampling in high-dimension\n",
    "This is easy to implement, but works very poorly in *high dimensions* because the rejection rate increases exponentially with increasing dimension. We had about 5% acceptance in the above example: in 10D for a similar distribution, we would have an acceptance rate of $9\\times 10^{-14}$: in practice we would *never* find a sample underneath the PDF by chance alone!"
   ]
  },
  {
   "cell_type": "markdown",
   "metadata": {},
   "source": [
    "### Metropolis-Hastings\n",
    "Metropolis-Hastings (or just plain Metropolis) takes a different approach, and is able to work in high-dimensional spaces. Metropolis samples also uses an auxiliary distribution $q(x)$, but it uses this to **wander around** in the distribution space, accepting jumps to new positions based on both $q(x)$ and $p(x)$.  This random walk (a **Markov chain**, because we make a random jump conditioned only on where we currently are) is a the \"Markov Chain\" bit of \"Markov Chain Monte Carlo\".\n",
    "\n",
    "We just take our current position $x$, and propose a new position $x^\\prime = x + x_q$, where $x_q$ is a random sample drawn from $q(x)$. This makes local steps in the space of the probability density. If $q(x)$ has a simple, symmetric form (e.g. is Gaussian), there is a very simple formula to decide whether to accept or reject a step from $p(x)$ to a new candidate position $p(x^\\prime)$:\n",
    "$$\n",
    "p(\\text{accept}) = \\begin{cases} p(x^\\prime)/p(x), & p(x)>=p(x^\\prime) \\\\  1, & p(x)<p(x^\\prime) \\end{cases} $$\n",
    "\n",
    "The asymmetric case is only slightly more involved, but it is very unusual to need to use it.\n",
    "\n",
    "Amazingly, this simple procedure will (in the limit!) take unbiased samples from the complete posterior distribution. In practice, convergence can be difficult to achieve, especially in higher dimensions, with multi-modal posteriors."
   ]
  },
  {
   "cell_type": "code",
   "execution_count": null,
   "metadata": {
    "collapsed": false
   },
   "outputs": [],
   "source": [
    "def metropolis(p,q,x_init,n):\n",
    "    # Perform Metropolis MCMC sampling.\n",
    "    # p(x): a function that can be evaluated anywhere. p(x) returns the value of p at x\n",
    "    # q(): a function q that draws a sample from a symmetric distribution and returns it\n",
    "    # x_init: a starting point\n",
    "    # n: number of samples\n",
    "    x = x_init\n",
    "    \n",
    "    samples = []\n",
    "    rejected = [] # we only keep the rejected samples to plot them later\n",
    "    for i in range(n):\n",
    "        # find a new candidate spot to jump to\n",
    "        x_prime = x + q()\n",
    "        # if it's better, go right away\n",
    "        if p(x_prime)>p(x):\n",
    "            x = x_prime\n",
    "            samples.append(x_prime)            \n",
    "        else:\n",
    "            # if not, go with probability proportional to the\n",
    "            # ratio between the new point and the current one\n",
    "            pa = p(x_prime)/p(x)\n",
    "            if np.random.uniform(0,1)<pa:\n",
    "                x = x_prime\n",
    "                samples.append(x_prime)\n",
    "            else:\n",
    "                rejected.append(x_prime)\n",
    "                \n",
    "    return np.array(samples), np.array(rejected)"
   ]
  },
  {
   "cell_type": "code",
   "execution_count": null,
   "metadata": {
    "collapsed": false,
    "scrolled": true
   },
   "outputs": [],
   "source": [
    "# test the sampling process\n",
    "# create an interesting distribution p (just a mixture of two gaussians)\n",
    "A = np.array([[0.15, 0.9], [-0.3, 2.5]])\n",
    "p1 = lambda x:scipy.stats.multivariate_normal(mean=[0,0], cov=A).pdf(x)\n",
    "p2 = lambda x:scipy.stats.multivariate_normal(mean=[3,0], cov=np.eye(2)).pdf(x)\n",
    "p = lambda x:p1(x)*0.5+p2(x)*0.5\n",
    "# create a proposal distribution, with std. dev. 0.25\n",
    "q = lambda: np.random.normal(0,0.75,(2,))\n",
    "\n",
    "# make 500 MCMC steps\n",
    "accept, reject = metropolis(p,q,[0.1, 0.3], 500)\n",
    "\n",
    "# plot a heatmap of the distribution, along with the\n",
    "# accepted and rejected samples from that MCMC chain\n",
    "plt.figure(figsize=(10,10))\n",
    "plt.plot(accept[:,0], accept[:,1])\n",
    "plt.plot(accept[:,0], accept[:,1], 'b.')\n",
    "plt.plot(reject[:,0], reject[:,1], 'rx')\n",
    "x,y = np.meshgrid(np.linspace(-5,5,30), np.linspace(-4,4,30))\n",
    "plt.imshow(p(np.dstack([x,y])), extent=[-4,4,-4,4], cmap='viridis')\n",
    "plt.grid(\"off\")\n",
    "plt.title(\"MCMC sampling with Metropolis-Hastings\")        "
   ]
  },
  {
   "cell_type": "code",
   "execution_count": null,
   "metadata": {
    "collapsed": false
   },
   "outputs": [],
   "source": [
    "# run the chain for longer, and plot the trace and the histogram of the variable\n",
    "accept, reject = metropolis(p,q,[0.1, 0.3], 5000)\n",
    "plt.subplot(1,2,1)\n",
    "plt.plot(accept[:,0])\n",
    "plt.title(\"Trace for $x$\")\n",
    "plt.subplot(1,2,2)\n",
    "plt.hist(accept[:,0], bins=20)\n",
    "plt.title(\"Histogram of $x$\")\n",
    "\n",
    "plt.figure()\n",
    "\n",
    "plt.plot(accept[:,1])\n",
    "plt.subplot(1,2,1)\n",
    "plt.title(\"Trace for $y$\")\n",
    "plt.plot(accept[:,1])\n",
    "plt.subplot(1,2,2)\n",
    "plt.title(\"Histogram of $y$\")\n",
    "plt.hist(accept[:,1], bins=20);\n",
    "\n",
    "plt.figure()\n",
    "xbins, ybins = np.linspace(-5,5,30), np.linspace(-4,4,30)\n",
    "plt.hist2d(accept[:,0], accept[:,1], normed=True, bins=[xbins, ybins])\n",
    "plt.title(\"2D histogram of MCMC points\")\n"
   ]
  },
  {
   "cell_type": "markdown",
   "metadata": {},
   "source": [
    "### Others\n",
    "There are many other MCMC samplers, such as:\n",
    "* **Gibbs** samplers, which are very efficient when we can sample from the conditional distribution (i.e. from one dimension of a distribution at a time), but not from the joint directly.\n",
    "* **Hamiltonian** samplers, which extend Metropolis-like steps with \"virtual physics\" which pushes the samples in sensible directions (i.e. not down the gradient of the function!). These are implemented in PyMC3, as well as in the MCMC system **STAN**, and can work very well in otherwise intractably high-dimensional spaces.\n",
    "* **Slice** samplers, which are very clever and efficient, but only work for 1-dimensional (univariate) distributions."
   ]
  },
  {
   "cell_type": "markdown",
   "metadata": {},
   "source": [
    "\n",
    "\n",
    "## Burn-in and thinning\n",
    "MCMC tries to draw **independent, unbiased** samples from the posterior, but the sampling process (like Metropolis), is not inherently unbiased. For example, successive samples in a random walk are correlated and obviously not independent. \n",
    "\n",
    "And although the Markov Chain approach (under fairly relaxed assumptions) will asympotically sample from all of the posterior, if the random walk starts off very far from the bulk of the distribution, it will \"wander in the wilderness\" for some time before reaching significant probability density. This means early samples from the distribution might be unreasonably dense in very low probability regions in the posterior. How \"good\" the Markov chain is at sampling from the posterior is called **mixing**; some MCMC setups may mix very badly until they get warmed up.\n",
    "\n",
    "To mitigate these two common issues, there are a couple of standard tricks: \n",
    "* **Burn-in**, which ignores the first $n$ samples from an MCMC draw, to make sure the chain is \"mixing\" well. Typically, several thousand samples might be ignored.\n",
    "* **Thinnning**, which takes one sample from every $k$ consecutive samples from the chain, to reduce correlation. Values of raound 5-50 are common.\n",
    "\n",
    "Tuning these is a matter of art!\n",
    "\n"
   ]
  },
  {
   "cell_type": "code",
   "execution_count": null,
   "metadata": {
    "collapsed": false
   },
   "outputs": [],
   "source": [
    "## Burn-in and thinning plot\n",
    "\n",
    "# introduce correlations\n",
    "y = accept[:,1] \n",
    "x = np.arange(len(y))\n",
    "\n",
    "# discard 400 samples, keep every 8th sample\n",
    "burn = 400\n",
    "thin = 8\n",
    "plt.plot(x[0:burn], y[0:burn], 'r:')\n",
    "plt.plot(x[burn::thin], y[burn::thin], 'go', markersize=8)\n",
    "plt.plot(x[burn:], y[burn:], 'k:', alpha=0.1)\n",
    "plt.plot(x[burn:], y[burn:], 'k.', alpha=0.1)\n",
    "\n",
    "\n",
    "plt.axvline(burn, c='r')\n",
    "plt.text(15,2.5,\"Burn-in period\")\n"
   ]
  },
  {
   "cell_type": "markdown",
   "metadata": {},
   "source": [
    "[The PyMC manual](https://pymc-devs.github.io/pymc/modelchecking.html) explains a number of other diagnostic statistics and plots. **None of these are definitive**, but can give skilled MCMC practitioners insight into the operation of the sampling process."
   ]
  },
  {
   "cell_type": "markdown",
   "metadata": {},
   "source": [
    "If you're interested in learning more about MCMC, David Mackay's [book chapter](http://www.inference.phy.cam.ac.uk/mackay/itprnn/ps/356.384.pdf) is a good reference."
   ]
  }
 ],
 "metadata": {
  "kernelspec": {
   "display_name": "Python 2",
   "language": "python",
   "name": "python2"
  },
  "language_info": {
   "codemirror_mode": {
    "name": "ipython",
    "version": 2
   },
   "file_extension": ".py",
   "mimetype": "text/x-python",
   "name": "python",
   "nbconvert_exporter": "python",
   "pygments_lexer": "ipython2",
   "version": "2.7.11"
  }
 },
 "nbformat": 4,
 "nbformat_minor": 0
}
