{
 "cells": [
  {
   "cell_type": "code",
   "execution_count": 48,
   "metadata": {
    "collapsed": false
   },
   "outputs": [],
   "source": [
    "import pyqtgraph as pg\n",
    "from pyqtgraph.Qt import QtCore, QtGui\n",
    "import numpy as np\n",
    "\n",
    "mousepos = np.array([30, 20])\n",
    "\n",
    "pos = np.zeros((200,2))\n",
    "pos[:,0] = np.linspace(-100,100,200)\n",
    "\n",
    "def display():\n",
    "    global mousepos\n",
    "    view.clear()\n",
    "    n = 300\n",
    "    s1 = pg.ScatterPlotItem(size=10, pen=pg.mkPen(None), brush=pg.mkBrush(255, 255, 255, 120))\n",
    "    pos = np.random.normal(size=(n,2), loc=mousepos, scale=10).T\n",
    "    spots = [{'pos': pos[:,i], 'data': 1} for i in range(n)] + [{'pos': [0,0], 'data': 1}]\n",
    "    s1.addPoints(spots)\n",
    "    p = pg.ItemGroup()    \n",
    "    p.addItem(s1)    \n",
    "    view.addItem(s1)\n",
    "    \n",
    "def relaxed():\n",
    "    global app    \n",
    "    display()\n",
    "    app.processEvents()\n",
    "    \n",
    "def mouse(pos):\n",
    "    global mousepos\n",
    "    \n",
    "    pos = view.mapSceneToView(pos)\n",
    "    mousepos = np.array([pos.x(), pos.y()])\n",
    "\n",
    "def update():\n",
    "    global mousepos    \n",
    "    relaxed()\n",
    "\n",
    "app = pg.mkQApp()\n",
    "win = pg.GraphicsLayoutWidget()\n",
    "win.resize(1800,1800)\n",
    "win.show()\n",
    "view = win.addViewBox()\n",
    "view.setAspectLocked(True)\n",
    "view.setXRange(-100, 100)\n",
    "view.setAutoPan(False)\n",
    "\n",
    "view.scene().sigMouseMoved.connect(mouse)\n",
    "\n",
    "timer = pg.QtCore.QTimer()\n",
    "timer.timeout.connect(update)\n",
    "timer.start(5)\n",
    "\n"
   ]
  },
  {
   "cell_type": "code",
   "execution_count": null,
   "metadata": {
    "collapsed": false
   },
   "outputs": [],
   "source": []
  },
  {
   "cell_type": "code",
   "execution_count": 20,
   "metadata": {
    "collapsed": false
   },
   "outputs": [],
   "source": [
    "%gui qt\n"
   ]
  },
  {
   "cell_type": "code",
   "execution_count": 3,
   "metadata": {
    "collapsed": false
   },
   "outputs": [
    {
     "name": "stdout",
     "output_type": "stream",
     "text": [
      "2\n"
     ]
    }
   ],
   "source": [
    "print 2"
   ]
  },
  {
   "cell_type": "code",
   "execution_count": 4,
   "metadata": {
    "collapsed": false
   },
   "outputs": [
    {
     "name": "stdout",
     "output_type": "stream",
     "text": [
      "Exiting...\n"
     ]
    }
   ],
   "source": [
    "from Tkinter import *\n",
    "import numpy as np\n",
    "import scipy.linalg, scipy.stats\n",
    "\n",
    "class TKanvas(object):\n",
    "    def __init__(self, draw_fn=None, tick_fn=None, event_fn=None, quit_fn=None, w=400, h=400):\n",
    "        self.root = Tk()\n",
    "        self.canvas = Canvas(self.root, background = \"black\", width=w, height=h)\n",
    "        self.w, self.h = w, h\n",
    "        self.cx = w/2\n",
    "        self.cy=h/2\n",
    "        self.mouse_x = self.cx\n",
    "        self.mouse_y = self.cy\n",
    "        self.canvas.pack(expand=1, fill=\"both\")        \n",
    "        self.draw_fn = draw_fn\n",
    "        self.tick_fn = tick_fn\n",
    "        self.quit_fn = quit_fn\n",
    "        self.event_fn = event_fn\n",
    "        self.root.iconify()\n",
    "        self.root.update()\n",
    "        self.root.deiconify()\n",
    "        self.root.wm_title(\"Canvas view: Press ESC to quit\")\n",
    "        self.root.bind(\"<Any-KeyPress>\", lambda ev: self.event(\"keypress\", ev))\n",
    "        self.root.bind(\"<Any-KeyRelease>\", lambda ev: self.event(\"keyrelease\", ev))\n",
    "        self.root.bind(\"<Escape>\", self.quit)\n",
    "        self.root.protocol(\"WM_DELETE_WINDOW\", lambda :self.quit(None))\n",
    "        self.root.bind( \"<Any-Button>\", lambda ev: self.event(\"mousedown\", ev))\n",
    "        self.root.bind( \"<Any-ButtonRelease>\", lambda ev: self.event(\"mouseup\", ev))\n",
    "        self.root.bind( \"<Any-Motion>\", lambda ev: self.event(\"mousemotion\", ev))        \n",
    "                        \n",
    "        self.root.update()\n",
    "        self.root.after(10, self.update)\n",
    "        \n",
    "       \n",
    "    def quit(self, event):\n",
    "        print(\"Exiting...\")\n",
    "        if self.quit_fn is not None:\n",
    "            self.quit_fn()\n",
    "        self.root.destroy()\n",
    "                \n",
    "    def clear(self):\n",
    "        self.canvas.delete(ALL)\n",
    "        \n",
    "    def rectangle(self, x1, y1, x2, y2, **kw):\n",
    "        return self.canvas.create_rectangle( x1, y1, x2, y2, **kw)        \n",
    "    \n",
    "    def error_ellipse(self, mean, cov, scale=1, **kw):\n",
    "        r = np.linspace(-np.pi, np.pi, 12)\n",
    "        cov = scipy.linalg.sqrtm(cov)\n",
    "        p = np.stack([np.cos(r), -np.sin(r)]).T\n",
    "        q = np.dot(p,cov)*scale*5 + mean\n",
    "        self.canvas.create_polygon(*q.ravel(), **kw)\n",
    "        \n",
    "        \n",
    "        \n",
    "    def square(self, x, y, r, **kw):\n",
    "        return self.rectangle(x-r, y-r, x+r, y+r, **kw)\n",
    "        \n",
    "    def arc(self, x1, y1, x2, y2, **kw):\n",
    "        return self.canvas.create_rectangle( x1, y1, x2, y2, **kw)        \n",
    "        \n",
    "    def line(self, x1, y1, x2, y2, **kw ):\n",
    "        return self.canvas.create_line( x1, y1, x2, y2, **kw)        \n",
    "        \n",
    "    def circle(self, x, y, r, **kw):\n",
    "        return self.oval(x-r, y-r, x+r, y+r, **kw)\n",
    "        \n",
    "    def oval(self, x1, y1, x2, y2, **kw ):        \n",
    "        return self.canvas.create_oval( x1, y1, x2, y2, **kw)        \n",
    "        \n",
    "    def text(self, x1, y1, **kw ):\n",
    "        return self.canvas.create_text(x,y, **kw)        \n",
    "        \n",
    "    def move_rel(self, tagOrId, dx,dy):\n",
    "        print(tagOrId, dx, dy)\n",
    "        self.canvas.move( tagOrId, dx, dy)\n",
    "        \n",
    "    def delete(self, tagOrId):\n",
    "        self.canvas.delete(tagOrId)\n",
    "        \n",
    "    def event(self, event_type, event):        \n",
    "        if event_type==\"mousemotion\":\n",
    "            # track mouse offset\n",
    "            dx = self.mouse_x - event.x\n",
    "            dy = self.mouse_y - event.y            \n",
    "            event.dx = -dx\n",
    "            event.dy = -dy            \n",
    "            \n",
    "            self.mouse_x = event.x\n",
    "            self.mouse_y = event.y\n",
    "            \n",
    "        if self.event_fn is not None:\n",
    "            self.event_fn(self, event_type, event)    \n",
    "    \n",
    "    def normal(self, mean, cov, ppfs=(0.65, 0.75, 0.85, 0.95), **kw):\n",
    "        for ppf in reversed(sorted(ppfs)):\n",
    "            scale = scipy.stats.norm.ppf(ppf)\n",
    "            self.error_ellipse(mean, cov, scale=scale, **kw)        \n",
    "        \n",
    "    def update(self):\n",
    "        if self.draw_fn is not None:            \n",
    "            self.draw_fn(self)\n",
    "        self.root.update_idletasks()        \n",
    "        if self.tick_fn is not None:            \n",
    "            self.tick_fn(0.01)\n",
    "        self.root.after(20, self.update)\n",
    "            \n",
    "            \n",
    "### Demo with mouse crosshairs\n",
    "def track(src, etype, event): \n",
    "    pass        \n",
    "        \n",
    "def draw(src):\n",
    "    src.clear()    \n",
    "    src.line(0, src.mouse_y, src.w, src.mouse_y, fill=\"red\")        \n",
    "    src.line(src.mouse_x, 0, src.mouse_x, src.h, fill=\"red\")        \n",
    "    src.normal(np.array([src.mouse_x, src.mouse_y]), np.eye(2)*30,\n",
    "               smooth=1, outline=\"blue\", fill='')\n",
    "\n",
    "    \n",
    "    \n",
    "    pass\n",
    "    \n",
    "c = TKanvas(draw_fn=draw)        \n",
    "\n",
    "\n",
    "\n",
    "%gui tk"
   ]
  },
  {
   "cell_type": "code",
   "execution_count": 67,
   "metadata": {
    "collapsed": false
   },
   "outputs": [],
   "source": [
    "class Gilbert(object):\n",
    "    \"\"\"implementS a Gilbert Markov chain, which can switch between two states. Simulates\n",
    "    bursty behaviour.\"\"\"    \n",
    "    def __init__(self, p1, p2):\n",
    "        self.p1 = p1\n",
    "        self.p2 = p2\n",
    "        self.state = 0        \n",
    "    \n",
    "    def update(self, dt):\n",
    "        # account for sampling rate              \n",
    "        p1 = 1-((1-self.p1)**(dt))\n",
    "        p2 = 1-((1-self.p2)**(dt))\n",
    "        \n",
    "        if self.state==0:            \n",
    "            if np.random.random()<p1:\n",
    "                self.state = 1\n",
    "        if self.state==1:            \n",
    "            if np.random.random()<p2:\n",
    "                self.state = 0\n",
    "        return self.state\n",
    "                \n",
    "class NoiseCursor(object):\n",
    "    def __init__(self, noise=0, dropout=[0, 0.1], jump=0.0):\n",
    "        self.noise = noise\n",
    "        self.dropout = dropout\n",
    "        self.jump = jump\n",
    "        self.gilbert = Gilbert(dropout[0], dropout[1])\n",
    "        \n",
    "    def update(self, x, y):\n",
    "        x = x + np.random.normal(0,self.noise) \n",
    "        \n",
    "        y = y + np.random.normal(0,self.noise) \n",
    "        if np.random.uniform(0,1)<self.jump:\n",
    "            y += np.random.uniform(-500,500)\n",
    "            x += np.random.uniform(-500,500)\n",
    "        cutout = self.gilbert.update(1)\n",
    "        if cutout:\n",
    "            x,y = np.nan, np.nan\n",
    "        return x,y\n",
    "    \n",
    "    \n",
    "class NoiseCursorDemo(object):\n",
    "    def __init__(self, filter=None, **kwargs):\n",
    "        self.cursor = NoiseCursor(**kwargs)\n",
    "        c = TKanvas(draw_fn=self.draw)     \n",
    "        self.target = np.random.uniform(0,400,(2,))\n",
    "        self.filter = filter\n",
    "        self.true_history = []\n",
    "        self.raw_history = []\n",
    "        self.filtered_history = []\n",
    "        \n",
    "    def draw(self, src):        \n",
    "        src.clear()    \n",
    "        x,y = self.target\n",
    "        src.rectangle(x,y,x+30, y+30, fill=\"grey\", outline=\"white\")\n",
    "        self.true_history.append((src.mouse_x, src.mouse_y))\n",
    "        # get noised position\n",
    "        x,y = self.cursor.update(src.mouse_x, src.mouse_y)\n",
    "        self.raw_history.append((x,y))\n",
    "        # apply any filtering\n",
    "        if self.filter:\n",
    "            x,y = self.filter(x,y)               \n",
    "        self.filtered_history.append((x,y))\n",
    "        if not np.isnan(x):\n",
    "            src.circle(x,y,5, fill=\"white\")\n",
    "        \n",
    "    \n",
    "    "
   ]
  },
  {
   "cell_type": "code",
   "execution_count": 75,
   "metadata": {
    "collapsed": false
   },
   "outputs": [],
   "source": [
    "class FilterNoise(object):\n",
    "    def __init__(self, alpha):\n",
    "        self.alpha = alpha\n",
    "        self.x = 0\n",
    "        \n",
    "    def update(self, x ):\n",
    "        if not np.isnan(x):\n",
    "            self.x = (1-self.alpha)*x + (self.alpha)*self.x\n",
    "        else:\n",
    "            return np.nan\n",
    "        return self.x\n",
    "    \n",
    "class TwoAxisFilter(object):\n",
    "    def __init__(self, mk_filter):\n",
    "        self.x_filter = mk_filter()\n",
    "        self.y_filter = mk_filter()\n",
    "    def __call__(self, x, y):\n",
    "        fx = self.x_filter.update(x)\n",
    "        fy = self.y_filter.update(y)\n",
    "        return fx, fy\n",
    "    \n",
    "    \n",
    "simple_filter = TwoAxisFilter(lambda: FilterNoise(alpha=0.9))        \n",
    "n = NoiseCursorDemo(filter=simple_filter, noise=10, dropout=[0.02, 0.1], jump=0.05)        \n",
    "%gui tk\n",
    "        "
   ]
  },
  {
   "cell_type": "code",
   "execution_count": 4,
   "metadata": {
    "collapsed": false
   },
   "outputs": [],
   "source": [
    "c = canvas.Can()"
   ]
  },
  {
   "cell_type": "code",
   "execution_count": 6,
   "metadata": {
    "collapsed": false
   },
   "outputs": [
    {
     "name": "stdout",
     "output_type": "stream",
     "text": [
      "2\n"
     ]
    }
   ],
   "source": [
    "print(2)"
   ]
  },
  {
   "cell_type": "code",
   "execution_count": 6,
   "metadata": {
    "collapsed": false
   },
   "outputs": [],
   "source": [
    "%gui tk"
   ]
  },
  {
   "cell_type": "code",
   "execution_count": 8,
   "metadata": {
    "collapsed": false
   },
   "outputs": [
    {
     "name": "stdout",
     "output_type": "stream",
     "text": [
      "(156, 152, 1)\n",
      "(233, 89, 1)\n",
      "(213, 76, 1)\n",
      "(149, 121, 1)\n",
      "(140, 157, 1)\n",
      "(358, 3, 1)\n"
     ]
    }
   ],
   "source": [
    "def down(x,y,n):\n",
    "    print(x,y,n)\n",
    "    \n",
    "canvas.set_mousedown_handler(down)"
   ]
  },
  {
   "cell_type": "code",
   "execution_count": 10,
   "metadata": {
    "collapsed": false
   },
   "outputs": [
    {
     "name": "stdout",
     "output_type": "stream",
     "text": [
      "(225, 107, 1)\n",
      "(225, 107, 1)\n",
      "(225, 107, 1)\n",
      "(225, 107, 1)\n",
      "(117, 106, 1)\n",
      "(202, 157, 1)\n"
     ]
    }
   ],
   "source": [
    "    \n",
    "canvas.set_mouseup_handler(down)"
   ]
  },
  {
   "cell_type": "code",
   "execution_count": null,
   "metadata": {
    "collapsed": false
   },
   "outputs": [],
   "source": []
  }
 ],
 "metadata": {
  "kernelspec": {
   "display_name": "Python 2",
   "language": "python",
   "name": "python2"
  },
  "language_info": {
   "codemirror_mode": {
    "name": "ipython",
    "version": 2
   },
   "file_extension": ".py",
   "mimetype": "text/x-python",
   "name": "python",
   "nbconvert_exporter": "python",
   "pygments_lexer": "ipython2",
   "version": "2.7.11"
  }
 },
 "nbformat": 4,
 "nbformat_minor": 0
}
